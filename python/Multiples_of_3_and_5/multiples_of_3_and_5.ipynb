{
  "nbformat": 4,
  "nbformat_minor": 0,
  "metadata": {
    "colab": {
      "provenance": []
    },
    "kernelspec": {
      "name": "python3",
      "display_name": "Python 3"
    },
    "language_info": {
      "name": "python"
    }
  },
  "cells": [
    {
      "cell_type": "code",
      "execution_count": 1,
      "metadata": {
        "id": "o5eusdprL5_D"
      },
      "outputs": [],
      "source": [
        "def solution(number):\n",
        "    if number <= 0:\n",
        "        return 0\n",
        "    suma = 0\n",
        "    for i in range(1,number):\n",
        "        if ((i % 3 == 0) or (i % 5 == 0)):\n",
        "            suma += i\n",
        "    return suma\n",
        "    pass\n",
        ""
      ]
    }
  ]
}