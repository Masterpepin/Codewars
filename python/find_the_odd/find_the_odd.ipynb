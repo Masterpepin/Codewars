{
  "nbformat": 4,
  "nbformat_minor": 0,
  "metadata": {
    "colab": {
      "provenance": []
    },
    "kernelspec": {
      "name": "python3",
      "display_name": "Python 3"
    },
    "language_info": {
      "name": "python"
    }
  },
  "cells": [
    {
      "cell_type": "code",
      "execution_count": 1,
      "metadata": {
        "id": "o5eusdprL5_D"
      },
      "outputs": [],
      "source": [
        "def find_it(seq):\n",
        "    for i in seq:\n",
        "        if seq.count(i) % 2 != 0:\n",
        "            return i\n"
      ]
    }
  ]
}