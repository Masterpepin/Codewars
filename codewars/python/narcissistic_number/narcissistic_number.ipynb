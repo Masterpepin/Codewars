{
  "nbformat": 4,
  "nbformat_minor": 0,
  "metadata": {
    "colab": {
      "provenance": []
    },
    "kernelspec": {
      "name": "python3",
      "display_name": "Python 3"
    },
    "language_info": {
      "name": "python"
    }
  },
  "cells": [
    {
      "cell_type": "code",
      "execution_count": 18,
      "metadata": {
        "colab": {
          "base_uri": "https://localhost:8080/"
        },
        "id": "o5eusdprL5_D",
        "outputId": "f8ce14a3-e91d-46c3-f57c-25067c17af79"
      },
      "outputs": [
        {
          "output_type": "stream",
          "name": "stdout",
          "text": [
            "7\n"
          ]
        },
        {
          "output_type": "execute_result",
          "data": {
            "text/plain": [
              "True"
            ]
          },
          "metadata": {},
          "execution_count": 18
        }
      ],
      "source": [
        "value = 7\n",
        "def narcissistic( value ):\n",
        "  Total_sum = 0\n",
        "  if value < 0:\n",
        "      return False\n",
        "  value_str = str(value)\n",
        "  digits_of_value = [int(number) for number in value_str]\n",
        "  lenght_digits_of_value = len(digits_of_value)\n",
        "  for i in range(lenght_digits_of_value):\n",
        "    Total_sum += digits_of_value[i]**lenght_digits_of_value\n",
        "  if Total_sum == value:\n",
        "    print (f\"{Total_sum}\")\n",
        "    return True\n",
        "  else:\n",
        "    print (f\"{Total_sum}\")\n",
        "    return False\n",
        "\n",
        "narcissistic(value)"
      ]
    }
  ]
}